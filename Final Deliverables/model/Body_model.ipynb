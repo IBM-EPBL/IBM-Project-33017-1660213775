{
 "cells": [
  {
   "cell_type": "markdown",
   "id": "7839e27b",
   "metadata": {},
   "source": [
    "# Installing the packages"
   ]
  },
  {
   "cell_type": "code",
   "execution_count": 1,
   "id": "b480a557",
   "metadata": {
    "scrolled": true
   },
   "outputs": [
    {
     "name": "stdout",
     "output_type": "stream",
     "text": [
      "Requirement already satisfied: tensorflow in c:\\users\\jayakrishna\\anaconda3\\lib\\site-packages (2.9.0)\n",
      "Requirement already satisfied: flatbuffers<2,>=1.12 in c:\\users\\jayakrishna\\anaconda3\\lib\\site-packages (from tensorflow) (1.12)\n",
      "Requirement already satisfied: h5py>=2.9.0 in c:\\users\\jayakrishna\\anaconda3\\lib\\site-packages (from tensorflow) (3.1.0)\n",
      "Requirement already satisfied: numpy>=1.20 in c:\\users\\jayakrishna\\anaconda3\\lib\\site-packages (from tensorflow) (1.22.4)\n",
      "Requirement already satisfied: typing-extensions>=3.6.6 in c:\\users\\jayakrishna\\anaconda3\\lib\\site-packages (from tensorflow) (4.4.0)\n",
      "Requirement already satisfied: google-pasta>=0.1.1 in c:\\users\\jayakrishna\\anaconda3\\lib\\site-packages (from tensorflow) (0.2.0)\n",
      "Requirement already satisfied: gast<=0.4.0,>=0.2.1 in c:\\users\\jayakrishna\\anaconda3\\lib\\site-packages (from tensorflow) (0.4.0)\n",
      "Requirement already satisfied: keras-preprocessing>=1.1.1 in c:\\users\\jayakrishna\\anaconda3\\lib\\site-packages (from tensorflow) (1.1.2)\n",
      "Requirement already satisfied: packaging in c:\\users\\jayakrishna\\anaconda3\\lib\\site-packages (from tensorflow) (21.3)\n",
      "Requirement already satisfied: setuptools in c:\\users\\jayakrishna\\anaconda3\\lib\\site-packages (from tensorflow) (61.2.0)\n",
      "Requirement already satisfied: six>=1.12.0 in c:\\users\\jayakrishna\\anaconda3\\lib\\site-packages (from tensorflow) (1.15.0)\n",
      "Requirement already satisfied: libclang>=13.0.0 in c:\\users\\jayakrishna\\anaconda3\\lib\\site-packages (from tensorflow) (14.0.6)\n",
      "Requirement already satisfied: tensorflow-estimator<2.10.0,>=2.9.0rc0 in c:\\users\\jayakrishna\\anaconda3\\lib\\site-packages (from tensorflow) (2.9.0)\n",
      "Requirement already satisfied: grpcio<2.0,>=1.24.3 in c:\\users\\jayakrishna\\anaconda3\\lib\\site-packages (from tensorflow) (1.34.1)\n",
      "Requirement already satisfied: wrapt>=1.11.0 in c:\\users\\jayakrishna\\anaconda3\\lib\\site-packages (from tensorflow) (1.12.1)\n",
      "Requirement already satisfied: keras<2.10.0,>=2.9.0rc0 in c:\\users\\jayakrishna\\anaconda3\\lib\\site-packages (from tensorflow) (2.9.0)\n",
      "Requirement already satisfied: astunparse>=1.6.0 in c:\\users\\jayakrishna\\anaconda3\\lib\\site-packages (from tensorflow) (1.6.3)\n",
      "Requirement already satisfied: opt-einsum>=2.3.2 in c:\\users\\jayakrishna\\anaconda3\\lib\\site-packages (from tensorflow) (3.3.0)\n",
      "Requirement already satisfied: protobuf>=3.9.2 in c:\\users\\jayakrishna\\anaconda3\\lib\\site-packages (from tensorflow) (3.19.1)\n",
      "Requirement already satisfied: absl-py>=1.0.0 in c:\\users\\jayakrishna\\anaconda3\\lib\\site-packages (from tensorflow) (1.2.0)\n",
      "Requirement already satisfied: tensorboard<2.10,>=2.9 in c:\\users\\jayakrishna\\anaconda3\\lib\\site-packages (from tensorflow) (2.9.1)\n",
      "Requirement already satisfied: tensorflow-io-gcs-filesystem>=0.23.1 in c:\\users\\jayakrishna\\anaconda3\\lib\\site-packages (from tensorflow) (0.26.0)\n",
      "Requirement already satisfied: termcolor>=1.1.0 in c:\\users\\jayakrishna\\anaconda3\\lib\\site-packages (from tensorflow) (1.1.0)\n",
      "Requirement already satisfied: wheel<1.0,>=0.23.0 in c:\\users\\jayakrishna\\anaconda3\\lib\\site-packages (from astunparse>=1.6.0->tensorflow) (0.37.1)\n",
      "Requirement already satisfied: google-auth-oauthlib<0.5,>=0.4.1 in c:\\users\\jayakrishna\\anaconda3\\lib\\site-packages (from tensorboard<2.10,>=2.9->tensorflow) (0.4.6)\n",
      "Requirement already satisfied: tensorboard-data-server<0.7.0,>=0.6.0 in c:\\users\\jayakrishna\\anaconda3\\lib\\site-packages (from tensorboard<2.10,>=2.9->tensorflow) (0.6.1)\n",
      "Requirement already satisfied: tensorboard-plugin-wit>=1.6.0 in c:\\users\\jayakrishna\\anaconda3\\lib\\site-packages (from tensorboard<2.10,>=2.9->tensorflow) (1.8.1)\n",
      "Requirement already satisfied: requests<3,>=2.21.0 in c:\\users\\jayakrishna\\anaconda3\\lib\\site-packages (from tensorboard<2.10,>=2.9->tensorflow) (2.27.1)\n",
      "Requirement already satisfied: werkzeug>=1.0.1 in c:\\users\\jayakrishna\\anaconda3\\lib\\site-packages (from tensorboard<2.10,>=2.9->tensorflow) (2.0.3)\n",
      "Requirement already satisfied: google-auth<3,>=1.6.3 in c:\\users\\jayakrishna\\anaconda3\\lib\\site-packages (from tensorboard<2.10,>=2.9->tensorflow) (1.33.0)\n",
      "Requirement already satisfied: markdown>=2.6.8 in c:\\users\\jayakrishna\\anaconda3\\lib\\site-packages (from tensorboard<2.10,>=2.9->tensorflow) (3.3.4)\n",
      "Requirement already satisfied: rsa<5,>=3.1.4 in c:\\users\\jayakrishna\\anaconda3\\lib\\site-packages (from google-auth<3,>=1.6.3->tensorboard<2.10,>=2.9->tensorflow) (4.7.2)\n",
      "Requirement already satisfied: cachetools<5.0,>=2.0.0 in c:\\users\\jayakrishna\\anaconda3\\lib\\site-packages (from google-auth<3,>=1.6.3->tensorboard<2.10,>=2.9->tensorflow) (4.2.2)\n",
      "Requirement already satisfied: pyasn1-modules>=0.2.1 in c:\\users\\jayakrishna\\anaconda3\\lib\\site-packages (from google-auth<3,>=1.6.3->tensorboard<2.10,>=2.9->tensorflow) (0.2.8)\n",
      "Requirement already satisfied: requests-oauthlib>=0.7.0 in c:\\users\\jayakrishna\\anaconda3\\lib\\site-packages (from google-auth-oauthlib<0.5,>=0.4.1->tensorboard<2.10,>=2.9->tensorflow) (1.3.1)\n",
      "Requirement already satisfied: pyasn1<0.5.0,>=0.4.6 in c:\\users\\jayakrishna\\anaconda3\\lib\\site-packages (from pyasn1-modules>=0.2.1->google-auth<3,>=1.6.3->tensorboard<2.10,>=2.9->tensorflow) (0.4.8)\n",
      "Requirement already satisfied: certifi>=2017.4.17 in c:\\users\\jayakrishna\\anaconda3\\lib\\site-packages (from requests<3,>=2.21.0->tensorboard<2.10,>=2.9->tensorflow) (2021.10.8)\n",
      "Requirement already satisfied: idna<4,>=2.5 in c:\\users\\jayakrishna\\anaconda3\\lib\\site-packages (from requests<3,>=2.21.0->tensorboard<2.10,>=2.9->tensorflow) (3.3)\n",
      "Requirement already satisfied: charset-normalizer~=2.0.0 in c:\\users\\jayakrishna\\anaconda3\\lib\\site-packages (from requests<3,>=2.21.0->tensorboard<2.10,>=2.9->tensorflow) (2.0.4)\n",
      "Requirement already satisfied: urllib3<1.27,>=1.21.1 in c:\\users\\jayakrishna\\anaconda3\\lib\\site-packages (from requests<3,>=2.21.0->tensorboard<2.10,>=2.9->tensorflow) (1.26.9)\n",
      "Requirement already satisfied: oauthlib>=3.0.0 in c:\\users\\jayakrishna\\anaconda3\\lib\\site-packages (from requests-oauthlib>=0.7.0->google-auth-oauthlib<0.5,>=0.4.1->tensorboard<2.10,>=2.9->tensorflow) (3.2.0)\n",
      "Requirement already satisfied: pyparsing!=3.0.5,>=2.0.2 in c:\\users\\jayakrishna\\anaconda3\\lib\\site-packages (from packaging->tensorflow) (3.0.4)\n",
      "Note: you may need to restart the kernel to use updated packages.\n"
     ]
    }
   ],
   "source": [
    "pip install tensorflow"
   ]
  },
  {
   "cell_type": "code",
   "execution_count": 2,
   "id": "44203a6d",
   "metadata": {
    "scrolled": false
   },
   "outputs": [
    {
     "name": "stdout",
     "output_type": "stream",
     "text": [
      "Requirement already satisfied: keras in c:\\users\\jayakrishna\\anaconda3\\lib\\site-packages (2.9.0)\n",
      "Note: you may need to restart the kernel to use updated packages.\n"
     ]
    }
   ],
   "source": [
    "pip install keras"
   ]
  },
  {
   "cell_type": "code",
   "execution_count": 3,
   "id": "bf223473",
   "metadata": {
    "scrolled": true
   },
   "outputs": [
    {
     "name": "stdout",
     "output_type": "stream",
     "text": [
      "Requirement already satisfied: livelossplot in c:\\users\\jayakrishna\\anaconda3\\lib\\site-packages (0.5.5)\n",
      "Requirement already satisfied: bokeh in c:\\users\\jayakrishna\\anaconda3\\lib\\site-packages (from livelossplot) (2.4.2)\n",
      "Requirement already satisfied: matplotlib in c:\\users\\jayakrishna\\anaconda3\\lib\\site-packages (from livelossplot) (3.5.1)\n",
      "Requirement already satisfied: typing-extensions>=3.10.0 in c:\\users\\jayakrishna\\anaconda3\\lib\\site-packages (from bokeh->livelossplot) (4.4.0)\n",
      "Requirement already satisfied: pillow>=7.1.0 in c:\\users\\jayakrishna\\anaconda3\\lib\\site-packages (from bokeh->livelossplot) (9.0.1)\n",
      "Requirement already satisfied: PyYAML>=3.10 in c:\\users\\jayakrishna\\anaconda3\\lib\\site-packages (from bokeh->livelossplot) (6.0)\n",
      "Requirement already satisfied: numpy>=1.11.3 in c:\\users\\jayakrishna\\anaconda3\\lib\\site-packages (from bokeh->livelossplot) (1.22.4)\n",
      "Requirement already satisfied: tornado>=5.1 in c:\\users\\jayakrishna\\anaconda3\\lib\\site-packages (from bokeh->livelossplot) (6.1)\n",
      "Requirement already satisfied: packaging>=16.8 in c:\\users\\jayakrishna\\anaconda3\\lib\\site-packages (from bokeh->livelossplot) (21.3)\n",
      "Requirement already satisfied: Jinja2>=2.9 in c:\\users\\jayakrishna\\anaconda3\\lib\\site-packages (from bokeh->livelossplot) (2.11.3)\n",
      "Requirement already satisfied: MarkupSafe>=0.23 in c:\\users\\jayakrishna\\anaconda3\\lib\\site-packages (from Jinja2>=2.9->bokeh->livelossplot) (2.0.1)\n",
      "Requirement already satisfied: pyparsing!=3.0.5,>=2.0.2 in c:\\users\\jayakrishna\\anaconda3\\lib\\site-packages (from packaging>=16.8->bokeh->livelossplot) (3.0.4)\n",
      "Requirement already satisfied: cycler>=0.10 in c:\\users\\jayakrishna\\anaconda3\\lib\\site-packages (from matplotlib->livelossplot) (0.11.0)\n",
      "Requirement already satisfied: python-dateutil>=2.7 in c:\\users\\jayakrishna\\anaconda3\\lib\\site-packages (from matplotlib->livelossplot) (2.8.2)\n",
      "Requirement already satisfied: fonttools>=4.22.0 in c:\\users\\jayakrishna\\anaconda3\\lib\\site-packages (from matplotlib->livelossplot) (4.25.0)\n",
      "Requirement already satisfied: kiwisolver>=1.0.1 in c:\\users\\jayakrishna\\anaconda3\\lib\\site-packages (from matplotlib->livelossplot) (1.3.2)\n",
      "Requirement already satisfied: six>=1.5 in c:\\users\\jayakrishna\\anaconda3\\lib\\site-packages (from python-dateutil>=2.7->matplotlib->livelossplot) (1.15.0)\n",
      "Note: you may need to restart the kernel to use updated packages.\n"
     ]
    }
   ],
   "source": [
    "pip install livelossplot"
   ]
  },
  {
   "cell_type": "code",
   "execution_count": 4,
   "id": "56e50ba6",
   "metadata": {
    "scrolled": false
   },
   "outputs": [
    {
     "name": "stdout",
     "output_type": "stream",
     "text": [
      "Requirement already satisfied: scikit-image in c:\\users\\jayakrishna\\anaconda3\\lib\\site-packages (0.19.2)\n",
      "Requirement already satisfied: scipy>=1.4.1 in c:\\users\\jayakrishna\\anaconda3\\lib\\site-packages (from scikit-image) (1.7.3)\n",
      "Requirement already satisfied: networkx>=2.2 in c:\\users\\jayakrishna\\anaconda3\\lib\\site-packages (from scikit-image) (2.7.1)\n",
      "Requirement already satisfied: packaging>=20.0 in c:\\users\\jayakrishna\\anaconda3\\lib\\site-packages (from scikit-image) (21.3)\n",
      "Requirement already satisfied: tifffile>=2019.7.26 in c:\\users\\jayakrishna\\anaconda3\\lib\\site-packages (from scikit-image) (2021.7.2)\n",
      "Requirement already satisfied: numpy>=1.17.0 in c:\\users\\jayakrishna\\anaconda3\\lib\\site-packages (from scikit-image) (1.22.4)\n",
      "Requirement already satisfied: pillow!=7.1.0,!=7.1.1,!=8.3.0,>=6.1.0 in c:\\users\\jayakrishna\\anaconda3\\lib\\site-packages (from scikit-image) (9.0.1)\n",
      "Requirement already satisfied: PyWavelets>=1.1.1 in c:\\users\\jayakrishna\\anaconda3\\lib\\site-packages (from scikit-image) (1.3.0)\n",
      "Requirement already satisfied: imageio>=2.4.1 in c:\\users\\jayakrishna\\anaconda3\\lib\\site-packages (from scikit-image) (2.9.0)\n",
      "Requirement already satisfied: pyparsing!=3.0.5,>=2.0.2 in c:\\users\\jayakrishna\\anaconda3\\lib\\site-packages (from packaging>=20.0->scikit-image) (3.0.4)\n"
     ]
    }
   ],
   "source": [
    "!pip install scikit-image"
   ]
  },
  {
   "cell_type": "markdown",
   "id": "f2afe4ef",
   "metadata": {},
   "source": [
    "# Importing libraries for Data Augmentation"
   ]
  },
  {
   "cell_type": "code",
   "execution_count": 5,
   "id": "dac9a37a",
   "metadata": {},
   "outputs": [],
   "source": [
    "import tensorflow as tf\n",
    "from tensorflow.keras.preprocessing.image import ImageDataGenerator\n",
    "from keras.applications.vgg16 import VGG16, preprocess_input"
   ]
  },
  {
   "cell_type": "markdown",
   "id": "4f7c5fa3",
   "metadata": {},
   "source": [
    "# Defining the parameters / arguments for ImageDataGenerator class"
   ]
  },
  {
   "cell_type": "code",
   "execution_count": 6,
   "id": "420d67ae",
   "metadata": {},
   "outputs": [],
   "source": [
    "# Data Augmentation on training variable Initialize\n",
    "\n",
    "train_datagen = ImageDataGenerator(rescale=1./255,\n",
    "                                   zoom_range=0.2,\n",
    "                                   rotation_range=40,\n",
    "                                   horizontal_flip=True)"
   ]
  },
  {
   "cell_type": "code",
   "execution_count": 7,
   "id": "cabcf1e3",
   "metadata": {},
   "outputs": [],
   "source": [
    "# Data Augmentation on testing variable Initialize\n",
    "\n",
    "test_datagen = ImageDataGenerator(rescale=1./255)"
   ]
  },
  {
   "cell_type": "markdown",
   "id": "5ee2523d",
   "metadata": {},
   "source": [
    "# For Body Damage"
   ]
  },
  {
   "cell_type": "code",
   "execution_count": 8,
   "id": "d8aaf429",
   "metadata": {},
   "outputs": [],
   "source": [
    "BATCH_SIZE = 32"
   ]
  },
  {
   "cell_type": "code",
   "execution_count": 9,
   "id": "db1c394c",
   "metadata": {},
   "outputs": [
    {
     "name": "stdout",
     "output_type": "stream",
     "text": [
      "Found 2221 images belonging to 3 classes.\n"
     ]
    }
   ],
   "source": [
    "# Data augmentation on training data \n",
    "\n",
    "body_train_generator = train_datagen.flow_from_directory(r'D:\\Nalaiya Thiran Project\\Juypter\\dataset\\Car damage\\body\\training',\n",
    "                                          target_size = (224,224),\n",
    "                                          batch_size = BATCH_SIZE,\n",
    "                                          class_mode = 'categorical')"
   ]
  },
  {
   "cell_type": "code",
   "execution_count": 10,
   "id": "953098a6",
   "metadata": {},
   "outputs": [
    {
     "name": "stdout",
     "output_type": "stream",
     "text": [
      "Found 1634 images belonging to 3 classes.\n"
     ]
    }
   ],
   "source": [
    "# Data augmentation on testing data \n",
    "\n",
    "body_test_generator = train_datagen.flow_from_directory(r'D:\\Nalaiya Thiran Project\\Juypter\\dataset\\Car damage\\body\\validation',\n",
    "                                          target_size = (224,224),\n",
    "                                          batch_size = BATCH_SIZE,\n",
    "                                          class_mode = 'categorical')"
   ]
  },
  {
   "cell_type": "markdown",
   "id": "e5d1ead2",
   "metadata": {},
   "source": [
    "# Model Building"
   ]
  },
  {
   "cell_type": "code",
   "execution_count": 11,
   "id": "6848cc37",
   "metadata": {},
   "outputs": [],
   "source": [
    "# Importing required lib.\n",
    "\n",
    "from tensorflow.keras.preprocessing import image\n",
    "from tensorflow.keras.preprocessing.image import ImageDataGenerator, load_img"
   ]
  },
  {
   "cell_type": "code",
   "execution_count": 12,
   "id": "aa6374e0",
   "metadata": {},
   "outputs": [],
   "source": [
    "from tensorflow.keras.models import Model\n",
    "from tensorflow.keras.layers import Flatten, Dense, Input, Dropout\n",
    "from livelossplot import PlotLossesKeras"
   ]
  },
  {
   "cell_type": "code",
   "execution_count": 13,
   "id": "30a6ecbf",
   "metadata": {},
   "outputs": [],
   "source": [
    "from keras.applications.vgg16 import VGG16\n",
    "from tensorflow.keras.applications.vgg16 import VGG16, preprocess_input"
   ]
  },
  {
   "cell_type": "code",
   "execution_count": 14,
   "id": "09cf0d32",
   "metadata": {},
   "outputs": [],
   "source": [
    "from glob import glob\n",
    "import numpy as np\n",
    "import matplotlib.pyplot as plt"
   ]
  },
  {
   "cell_type": "markdown",
   "id": "1a575fda",
   "metadata": {},
   "source": [
    "# Building Model blocks"
   ]
  },
  {
   "cell_type": "code",
   "execution_count": 15,
   "id": "e863667b",
   "metadata": {},
   "outputs": [],
   "source": [
    "base_model = VGG16(input_shape = (224, 224, 3), # Shape of our images\n",
    "                   include_top = False, # Leave out the last fully connected layer                 \n",
    "                   weights = 'imagenet')"
   ]
  },
  {
   "cell_type": "code",
   "execution_count": 16,
   "id": "8ad43089",
   "metadata": {},
   "outputs": [],
   "source": [
    "# Since we don’t have to train all the layers, we make them non_trainable:\n",
    "\n",
    "for layer in base_model.layers:\n",
    "    layer.trainable = False"
   ]
  },
  {
   "cell_type": "markdown",
   "id": "312634cd",
   "metadata": {},
   "source": [
    "# Compile"
   ]
  },
  {
   "cell_type": "code",
   "execution_count": 17,
   "id": "47765788",
   "metadata": {},
   "outputs": [],
   "source": [
    "# Flatten the output layer to 1 dimension\n",
    "x = Flatten()(base_model.output)\n",
    "\n",
    "# Add a final sigmoid layer with 1 node for classification output\n",
    "x = Dense(3, activation='softmax')(x)"
   ]
  },
  {
   "cell_type": "code",
   "execution_count": 18,
   "id": "70b74db2",
   "metadata": {},
   "outputs": [],
   "source": [
    "model = Model(base_model.input, x)\n",
    "\n",
    "model.compile(loss = 'categorical_crossentropy',optimizer = 'adam',metrics = ['acc'])"
   ]
  },
  {
   "cell_type": "code",
   "execution_count": 19,
   "id": "a3de3734",
   "metadata": {
    "scrolled": true
   },
   "outputs": [
    {
     "name": "stdout",
     "output_type": "stream",
     "text": [
      "Model: \"model\"\n",
      "_________________________________________________________________\n",
      " Layer (type)                Output Shape              Param #   \n",
      "=================================================================\n",
      " input_1 (InputLayer)        [(None, 224, 224, 3)]     0         \n",
      "                                                                 \n",
      " block1_conv1 (Conv2D)       (None, 224, 224, 64)      1792      \n",
      "                                                                 \n",
      " block1_conv2 (Conv2D)       (None, 224, 224, 64)      36928     \n",
      "                                                                 \n",
      " block1_pool (MaxPooling2D)  (None, 112, 112, 64)      0         \n",
      "                                                                 \n",
      " block2_conv1 (Conv2D)       (None, 112, 112, 128)     73856     \n",
      "                                                                 \n",
      " block2_conv2 (Conv2D)       (None, 112, 112, 128)     147584    \n",
      "                                                                 \n",
      " block2_pool (MaxPooling2D)  (None, 56, 56, 128)       0         \n",
      "                                                                 \n",
      " block3_conv1 (Conv2D)       (None, 56, 56, 256)       295168    \n",
      "                                                                 \n",
      " block3_conv2 (Conv2D)       (None, 56, 56, 256)       590080    \n",
      "                                                                 \n",
      " block3_conv3 (Conv2D)       (None, 56, 56, 256)       590080    \n",
      "                                                                 \n",
      " block3_pool (MaxPooling2D)  (None, 28, 28, 256)       0         \n",
      "                                                                 \n",
      " block4_conv1 (Conv2D)       (None, 28, 28, 512)       1180160   \n",
      "                                                                 \n",
      " block4_conv2 (Conv2D)       (None, 28, 28, 512)       2359808   \n",
      "                                                                 \n",
      " block4_conv3 (Conv2D)       (None, 28, 28, 512)       2359808   \n",
      "                                                                 \n",
      " block4_pool (MaxPooling2D)  (None, 14, 14, 512)       0         \n",
      "                                                                 \n",
      " block5_conv1 (Conv2D)       (None, 14, 14, 512)       2359808   \n",
      "                                                                 \n",
      " block5_conv2 (Conv2D)       (None, 14, 14, 512)       2359808   \n",
      "                                                                 \n",
      " block5_conv3 (Conv2D)       (None, 14, 14, 512)       2359808   \n",
      "                                                                 \n",
      " block5_pool (MaxPooling2D)  (None, 7, 7, 512)         0         \n",
      "                                                                 \n",
      " flatten (Flatten)           (None, 25088)             0         \n",
      "                                                                 \n",
      " dense (Dense)               (None, 3)                 75267     \n",
      "                                                                 \n",
      "=================================================================\n",
      "Total params: 14,789,955\n",
      "Trainable params: 75,267\n",
      "Non-trainable params: 14,714,688\n",
      "_________________________________________________________________\n"
     ]
    }
   ],
   "source": [
    "model.summary()"
   ]
  },
  {
   "cell_type": "markdown",
   "id": "b42e9332",
   "metadata": {},
   "source": [
    "# Model Fit"
   ]
  },
  {
   "cell_type": "code",
   "execution_count": 20,
   "id": "d1d67a8e",
   "metadata": {
    "scrolled": false
   },
   "outputs": [
    {
     "data": {
      "image/png": "[encoded data removed]",
      "text/plain": [
       "<Figure size 864x576 with 2 Axes>"
      ]
     },
     "metadata": {
      "needs_background": "light"
     },
     "output_type": "display_data"
    },
    {
     "name": "stdout",
     "output_type": "stream",
     "text": [
      "Accuracy\n",
      "\ttraining         \t (min:    0.452, max:    0.804, cur:    0.758)\n",
      "\tvalidation       \t (min:    0.545, max:    0.800, cur:    0.800)\n",
      "Loss\n",
      "\ttraining         \t (min:    0.503, max:    1.373, cur:    0.597)\n",
      "\tvalidation       \t (min:    0.517, max:    1.357, cur:    0.517)\n",
      "\b\b\b\b\b\b\b\b\b\b\b\b\b\b\b\b\b\b\b\b\b\b\b\b\b\b\b\b\b\b\b\b\b\b\b\b\b\b\b\b\b\b\b\b\b\b\b\b\b\b\b\b\b\b\b\b\b\b\b\b\b\b\b\b\b\b\b\b\b\b\b\b\b\b\b\b\b\r",
      "69/69 [==============================] - 700s 10s/step - loss: 0.5974 - acc: 0.7583 - val_loss: 0.5174 - val_acc: 0.7996\n"
     ]
    }
   ],
   "source": [
    "vggfit = model.fit(body_train_generator,\n",
    "                    validation_data = body_test_generator,\n",
    "                    steps_per_epoch = 2221 //BATCH_SIZE,\n",
    "                    validation_steps = 1634 //BATCH_SIZE,\n",
    "                    callbacks=[PlotLossesKeras()],\n",
    "                    epochs = 20)"
   ]
  },
  {
   "cell_type": "markdown",
   "id": "c8a45a0f",
   "metadata": {},
   "source": [
    "# Save the Model"
   ]
  },
  {
   "cell_type": "code",
   "execution_count": 21,
   "id": "06a564cb",
   "metadata": {},
   "outputs": [],
   "source": [
    "#Saving the level model\n",
    "\n",
    "model.save('body.h5')"
   ]
  },
  {
   "cell_type": "markdown",
   "id": "ea41fe88",
   "metadata": {},
   "source": [
    "# Testing the Model"
   ]
  },
  {
   "cell_type": "code",
   "execution_count": 22,
   "id": "2f7da007",
   "metadata": {},
   "outputs": [],
   "source": [
    "# Importing the required libraries\n",
    "\n",
    "from tensorflow.keras.models import load_model\n",
    "import cv2\n",
    "from skimage.transform import resize"
   ]
  },
  {
   "cell_type": "code",
   "execution_count": 23,
   "id": "5142f982",
   "metadata": {},
   "outputs": [],
   "source": [
    "#Loading the level model\n",
    "\n",
    "model = load_model('body.h5')"
   ]
  },
  {
   "cell_type": "code",
   "execution_count": 24,
   "id": "d3c756f7",
   "metadata": {},
   "outputs": [],
   "source": [
    "#Creating a function, which is used to predict the level\n",
    "\n",
    "def detect(frame):\n",
    "    img = cv2.resize(frame,(224,224)) #Resize the image to model trained image size\n",
    "    img = cv2.cvtColor(img,cv2.COLOR_BGR2RGB) #Uploaded image is in the form of BGR, so convert to RGB\n",
    "    #Sacling need to be done\n",
    "    if(np.max(img)>1):\n",
    "        img = img/255.0\n",
    "    img = np.array([img]) # Doing array format\n",
    "    prediction = model.predict(img)\n",
    "    label = [\"Front\", \"Rear\", \"Side\"]\n",
    "    preds = label[np.argmax(prediction)]\n",
    "    return preds"
   ]
  },
  {
   "cell_type": "markdown",
   "id": "765c7389",
   "metadata": {},
   "source": [
    "# Predictions"
   ]
  },
  {
   "cell_type": "code",
   "execution_count": 25,
   "id": "3270a6b5",
   "metadata": {},
   "outputs": [],
   "source": [
    "#Importing library\n",
    "\n",
    "import numpy as np"
   ]
  },
  {
   "cell_type": "code",
   "execution_count": 26,
   "id": "743c726b",
   "metadata": {},
   "outputs": [
    {
     "name": "stdout",
     "output_type": "stream",
     "text": [
      "1/1 [==============================] - 1s 545ms/step\n",
      "Rear\n"
     ]
    }
   ],
   "source": [
    "# 1st testing\n",
    "\n",
    "data = 'D:\\\\Nalaiya Thiran Project\\\\Juypter\\\\dataset\\\\Car damage\\\\body\\\\validation\\\\01-rear\\\\da1fa0dc4f16515d76b7fbb8536cd891.JPG'\n",
    "image = cv2.imread(data)\n",
    "print(detect(image))"
   ]
  },
  {
   "cell_type": "code",
   "execution_count": 27,
   "id": "ff4120a9",
   "metadata": {},
   "outputs": [
    {
     "name": "stdout",
     "output_type": "stream",
     "text": [
      "1/1 [==============================] - 0s 258ms/step\n",
      "Rear\n"
     ]
    }
   ],
   "source": [
    "# 2nd testing\n",
    "\n",
    "data = 'D:\\\\Nalaiya Thiran Project\\\\Juypter\\\\dataset\\\\Car damage\\\\body\\\\validation\\\\01-rear\\\\car-stands-broken-avrii-edge-road-blue-car-stands-broken-avrii-edge-road-148077155.JPG'\n",
    "image = cv2.imread(data)\n",
    "print(detect(image))"
   ]
  },
  {
   "cell_type": "code",
   "execution_count": 28,
   "id": "92614814",
   "metadata": {},
   "outputs": [
    {
     "name": "stdout",
     "output_type": "stream",
     "text": [
      "1/1 [==============================] - 0s 241ms/step\n",
      "Front\n"
     ]
    }
   ],
   "source": [
    "# 3rd testing\n",
    "\n",
    "data = 'D:\\\\Nalaiya Thiran Project\\\\Juypter\\\\dataset\\\\Car damage\\\\body\\\\validation\\\\00-front\\\\DSC_0445.JPG'\n",
    "image = cv2.imread(data)\n",
    "print(detect(image))"
   ]
  },
  {
   "cell_type": "code",
   "execution_count": 29,
   "id": "22affa67",
   "metadata": {},
   "outputs": [
    {
     "name": "stdout",
     "output_type": "stream",
     "text": [
      "1/1 [==============================] - 0s 238ms/step\n",
      "Side\n"
     ]
    }
   ],
   "source": [
    "# 4th testing\n",
    "\n",
    "data = 'D:\\\\Nalaiya Thiran Project\\\\Juypter\\\\dataset\\\\Car damage\\\\body\\\\validation\\\\02-side\\\\car-insurance-0344650937.JPG'\n",
    "image = cv2.imread(data)\n",
    "print(detect(image))"
   ]
  },
  {
   "cell_type": "code",
   "execution_count": 30,
   "id": "a3ba3778",
   "metadata": {
    "scrolled": true
   },
   "outputs": [
    {
     "name": "stdout",
     "output_type": "stream",
     "text": [
      "1/1 [==============================] - 0s 233ms/step\n",
      "Front\n"
     ]
    }
   ],
   "source": [
    "# 4th testing\n",
    "\n",
    "data = 'D:\\\\Nalaiya Thiran Project\\\\Juypter\\\\dataset\\\\Car damage\\\\body\\\\validation\\\\02-side\\\\maxresdefault2.JPG'\n",
    "image = cv2.imread(data)\n",
    "print(detect(image))"
   ]
  },
  {
   "cell_type": "code",
   "execution_count": 31,
   "id": "923c3c6a",
   "metadata": {},
   "outputs": [
    {
     "name": "stdout",
     "output_type": "stream",
     "text": [
      "1/1 [==============================] - 0s 235ms/step\n",
      "Side\n"
     ]
    }
   ],
   "source": [
    "# 5th testing\n",
    "\n",
    "data = 'D:\\\\Nalaiya Thiran Project\\\\Juypter\\\\dataset\\\\Car damage\\\\body\\\\validation\\\\02-side\\\\3389-SilverCRV_BeforeAfter.JPG'\n",
    "image = cv2.imread(data)\n",
    "print(detect(image))"
   ]
  },
  {
   "cell_type": "code",
   "execution_count": null,
   "id": "e9ceefac",
   "metadata": {},
   "outputs": [],
   "source": []
  }
 ],
 "metadata": {
  "kernelspec": {
   "display_name": "Python 3 (ipykernel)",
   "language": "python",
   "name": "python3"
  },
  "language_info": {
   "codemirror_mode": {
    "name": "ipython",
    "version": 3
   },
   "file_extension": ".py",
   "mimetype": "text/x-python",
   "name": "python",
   "nbconvert_exporter": "python",
   "pygments_lexer": "ipython3",
   "version": "3.9.12"
  }
 },
 "nbformat": 4,
 "nbformat_minor": 5
}
